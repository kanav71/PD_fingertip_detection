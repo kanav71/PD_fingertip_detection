{
 "cells": [
  {
   "cell_type": "code",
   "execution_count": 65,
   "id": "f6127d97",
   "metadata": {},
   "outputs": [],
   "source": [
    "import pandas as pd\n",
    "#import cv2\n",
    "import random"
   ]
  },
  {
   "cell_type": "code",
   "execution_count": 70,
   "id": "998c1692",
   "metadata": {},
   "outputs": [
    {
     "data": {
      "text/plain": [
       "['OC01_R_10s_lowfps.mp4', 'OC06_R_10s_lowfps.mp4', 'OC101_R_10s_lowfps.mp4']"
      ]
     },
     "execution_count": 70,
     "metadata": {},
     "output_type": "execute_result"
    }
   ],
   "source": [
    "label_path = \"C:/Users/Kanav/Documents/Dissertation/Parkinsons_Disease/Codes/Fingertip-Mixed-Reality/Dataset/label/\"\n",
    "video_files = pd.read_csv(label_path + \"combined_labels_v3_cleaned.csv\")\n",
    "\n",
    "video_list = video_files[\"video_name\"].unique().tolist()\n",
    "video_list[0:3]"
   ]
  },
  {
   "cell_type": "code",
   "execution_count": 71,
   "id": "67f74229",
   "metadata": {},
   "outputs": [
    {
     "data": {
      "text/plain": [
       "['P53_R_10s_lowfps.mp4', 'P36_R_10s_lowfps.mp4', 'OC08_R_10s_lowfps.mp4']"
      ]
     },
     "execution_count": 71,
     "metadata": {},
     "output_type": "execute_result"
    }
   ],
   "source": [
    "#shuffling the list \n",
    "random.seed(4)\n",
    "random.shuffle(video_list)\n",
    "video_list[0:3]"
   ]
  },
  {
   "cell_type": "code",
   "execution_count": 72,
   "id": "df48ab17",
   "metadata": {},
   "outputs": [
    {
     "name": "stdout",
     "output_type": "stream",
     "text": [
      "50 7 6\n"
     ]
    }
   ],
   "source": [
    "## Splitting the videos between train-valid-test\n",
    "total_files = len(video_list)\n",
    "train_len = int(total_files* 0.8)\n",
    "test_len = int(total_files* 0.1)\n",
    "valid_len = total_files - (train_len + test_len)\n",
    "print(train_len, valid_len, test_len)\n",
    "\n",
    "train_videos = video_list[0:train_len]\n",
    "valid_videos = video_list[train_len:train_len+valid_len]\n",
    "test_videos = video_list[train_len+valid_len: ]  #[train_len:train_len+valid_len]"
   ]
  },
  {
   "cell_type": "code",
   "execution_count": 117,
   "id": "22cccf5c",
   "metadata": {},
   "outputs": [],
   "source": [
    "import cv2\n",
    "import os\n",
    "#video_name = 'OC07_R_10s_lowfps.mp4'\n",
    "input_video_path = 'C:/Users/Kanav/Documents/Dissertation/Parkinsons_Disease/Data/parkinsons_videos/cropped_videos/'\n",
    "output_path = \"C:/Users/Kanav/Documents/Dissertation/Parkinsons_Disease/Codes/Fingertip-Mixed-Reality/Dataset/\"\n",
    "\n",
    "# using label path as some of the videos have last frame missing in labels (unsure why they left 1 frame in some of the videos)\n",
    "label_path = \"C:/Users/Kanav/Documents/Dissertation/Parkinsons_Disease/Codes/Fingertip-Mixed-Reality/Dataset/label/\"\n",
    "video_files = pd.read_csv(label_path + \"combined_labels_v3_cleaned.csv\")\n",
    "\n",
    "\n",
    "# Extracting images\n",
    "for folder in [\"Train\", \"Test\", \"Valid\"]:\n",
    "    if folder == \"Train\":\n",
    "        folder_videos = train_videos\n",
    "    elif folder == \"Test\":\n",
    "        folder_videos = test_videos\n",
    "    else: \n",
    "        folder_videos = valid_videos\n",
    "    for video_name in folder_videos:\n",
    "        cap = cv2.VideoCapture( input_video_path + video_name)\n",
    "        success,image = vidcap.read()\n",
    "        count = 0\n",
    "        labeled_count = len(video_files[video_files[\"video_name\"]== video_name])\n",
    "        while (vidcap.isOpened() and count<=labeled_count-1):\n",
    "            ret,image = cap.read()\n",
    "            if ret==True:\n",
    "                cv2.imwrite(os.path.join(output_path+ folder,f\"{video_name}@{count}.jpg\"), image)     # save frame as JPEG file\n",
    "                count += 1\n",
    "                if cv2.waitKey(10) == 27:                     # exit if Escape is hit\n",
    "                    break\n",
    "            else:\n",
    "                break\n",
    "\n",
    "    cap.release()\n",
    "    cv2.destroyAllWindows()"
   ]
  },
  {
   "cell_type": "code",
   "execution_count": 119,
   "id": "28b117a6",
   "metadata": {},
   "outputs": [
    {
     "name": "stdout",
     "output_type": "stream",
     "text": [
      "OC01_R_10s_lowfps.mp4 0\n"
     ]
    }
   ],
   "source": [
    "aa = \"OC01_R_10s_lowfps.mp4@0.jpg\"\n",
    "filename = aa.split(\"@\")[0]\n",
    "file_index = aa.split(\"@\")[1].split(\".\")[0]\n",
    "\n",
    "print(filename, file_index)"
   ]
  }
 ],
 "metadata": {
  "kernelspec": {
   "display_name": "Python 3",
   "language": "python",
   "name": "python3"
  },
  "language_info": {
   "codemirror_mode": {
    "name": "ipython",
    "version": 3
   },
   "file_extension": ".py",
   "mimetype": "text/x-python",
   "name": "python",
   "nbconvert_exporter": "python",
   "pygments_lexer": "ipython3",
   "version": "3.8.8"
  }
 },
 "nbformat": 4,
 "nbformat_minor": 5
}
