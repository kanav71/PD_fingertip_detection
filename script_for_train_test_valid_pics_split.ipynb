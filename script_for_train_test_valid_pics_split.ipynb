{
 "cells": [
  {
   "cell_type": "code",
   "execution_count": 1,
   "id": "f6127d97",
   "metadata": {},
   "outputs": [],
   "source": [
    "import pandas as pd\n",
    "#import cv2\n",
    "import random"
   ]
  },
  {
   "cell_type": "code",
   "execution_count": 70,
   "id": "998c1692",
   "metadata": {},
   "outputs": [
    {
     "data": {
      "text/plain": [
       "['OC01_R_10s_lowfps.mp4', 'OC06_R_10s_lowfps.mp4', 'OC101_R_10s_lowfps.mp4']"
      ]
     },
     "execution_count": 70,
     "metadata": {},
     "output_type": "execute_result"
    }
   ],
   "source": [
    "label_path = \"C:/Users/Kanav/Documents/Dissertation/Parkinsons_Disease/Codes/Fingertip-Mixed-Reality/Dataset/label/\"\n",
    "video_files = pd.read_csv(label_path + \"combined_labels_v3_cleaned.csv\")\n",
    "\n",
    "video_list = video_files[\"video_name\"].unique().tolist()\n",
    "video_list[0:3]"
   ]
  },
  {
   "cell_type": "code",
   "execution_count": 71,
   "id": "67f74229",
   "metadata": {},
   "outputs": [
    {
     "data": {
      "text/plain": [
       "['P53_R_10s_lowfps.mp4', 'P36_R_10s_lowfps.mp4', 'OC08_R_10s_lowfps.mp4']"
      ]
     },
     "execution_count": 71,
     "metadata": {},
     "output_type": "execute_result"
    }
   ],
   "source": [
    "#shuffling the list with seed\n",
    "random.seed(4)\n",
    "random.shuffle(video_list)\n",
    "video_list[0:3]"
   ]
  },
  {
   "cell_type": "code",
   "execution_count": 72,
   "id": "df48ab17",
   "metadata": {},
   "outputs": [
    {
     "name": "stdout",
     "output_type": "stream",
     "text": [
      "50 7 6\n"
     ]
    }
   ],
   "source": [
    "## Splitting the videos between train-valid-test\n",
    "total_files = len(video_list)\n",
    "train_len = int(total_files* 0.8)\n",
    "test_len = int(total_files* 0.1)\n",
    "valid_len = total_files - (train_len + test_len)\n",
    "print(train_len, valid_len, test_len)\n",
    "\n",
    "train_videos = video_list[0:train_len]\n",
    "valid_videos = video_list[train_len:train_len+valid_len]\n",
    "test_videos = video_list[train_len+valid_len: ]  #[train_len:train_len+valid_len]"
   ]
  },
  {
   "cell_type": "code",
   "execution_count": 117,
   "id": "22cccf5c",
   "metadata": {},
   "outputs": [],
   "source": [
    "import cv2\n",
    "import os\n",
    "#video_name = 'OC07_R_10s_lowfps.mp4'\n",
    "input_video_path = 'C:/Users/Kanav/Documents/Dissertation/Parkinsons_Disease/Data/parkinsons_videos/cropped_videos/'\n",
    "output_path = \"C:/Users/Kanav/Documents/Dissertation/Parkinsons_Disease/Codes/Fingertip-Mixed-Reality/Dataset/\"\n",
    "\n",
    "# using label path as some of the videos have last frame missing in labels (unsure why they left 1 frame in some of the videos)\n",
    "label_path = \"C:/Users/Kanav/Documents/Dissertation/Parkinsons_Disease/Codes/Fingertip-Mixed-Reality/Dataset/label/\"\n",
    "video_files = pd.read_csv(label_path + \"combined_labels_v3_cleaned.csv\")\n",
    "\n",
    "\n",
    "# Extracting images\n",
    "for folder in [\"Train\", \"Test\", \"Valid\"]:\n",
    "    if folder == \"Train\":\n",
    "        folder_videos = train_videos\n",
    "    elif folder == \"Test\":\n",
    "        folder_videos = test_videos\n",
    "    else: \n",
    "        folder_videos = valid_videos\n",
    "    for video_name in folder_videos:\n",
    "        cap = cv2.VideoCapture( input_video_path + video_name)\n",
    "        success,image = vidcap.read()\n",
    "        count = 0\n",
    "        labeled_count = len(video_files[video_files[\"video_name\"]== video_name])\n",
    "        while (vidcap.isOpened() and count<=labeled_count-1):\n",
    "            ret,image = cap.read()\n",
    "            if ret==True:\n",
    "                cv2.imwrite(os.path.join(output_path+ folder,f\"{video_name}@{count}.jpg\"), image)     # save frame as JPEG file\n",
    "                count += 1\n",
    "                if cv2.waitKey(10) == 27:                     # exit if Escape is hit\n",
    "                    break\n",
    "            else:\n",
    "                break\n",
    "\n",
    "    cap.release()\n",
    "    cv2.destroyAllWindows()"
   ]
  },
  {
   "cell_type": "code",
   "execution_count": 60,
   "id": "62ecf078",
   "metadata": {},
   "outputs": [
    {
     "name": "stderr",
     "output_type": "stream",
     "text": [
      "<ipython-input-60-41989dfaf0d9>:6: SettingWithCopyWarning: \n",
      "A value is trying to be set on a copy of a slice from a DataFrame.\n",
      "Try using .loc[row_indexer,col_indexer] = value instead\n",
      "\n",
      "See the caveats in the documentation: https://pandas.pydata.org/pandas-docs/stable/user_guide/indexing.html#returning-a-view-versus-a-copy\n",
      "  missing_data[\"filename\"] = missing_data[\"video_name\"] + \"@\" + missing_data.seq.str[3:6].astype(int).astype(str)\n"
     ]
    },
    {
     "data": {
      "text/html": [
       "<div>\n",
       "<style scoped>\n",
       "    .dataframe tbody tr th:only-of-type {\n",
       "        vertical-align: middle;\n",
       "    }\n",
       "\n",
       "    .dataframe tbody tr th {\n",
       "        vertical-align: top;\n",
       "    }\n",
       "\n",
       "    .dataframe thead th {\n",
       "        text-align: right;\n",
       "    }\n",
       "</style>\n",
       "<table border=\"1\" class=\"dataframe\">\n",
       "  <thead>\n",
       "    <tr style=\"text-align: right;\">\n",
       "      <th></th>\n",
       "      <th>video_name</th>\n",
       "      <th>seq</th>\n",
       "      <th>new_finger_x</th>\n",
       "      <th>new_finger_y</th>\n",
       "      <th>new_thumb_x</th>\n",
       "      <th>new_thumb_y</th>\n",
       "      <th>filename</th>\n",
       "    </tr>\n",
       "  </thead>\n",
       "  <tbody>\n",
       "    <tr>\n",
       "      <th>4798</th>\n",
       "      <td>OC50_R_10s_lowfps.mp4</td>\n",
       "      <td>img025.png</td>\n",
       "      <td>NaN</td>\n",
       "      <td>NaN</td>\n",
       "      <td>NaN</td>\n",
       "      <td>NaN</td>\n",
       "      <td>OC50_R_10s_lowfps.mp4@25</td>\n",
       "    </tr>\n",
       "    <tr>\n",
       "      <th>5001</th>\n",
       "      <td>P06_R_10s_lowfps.mp4</td>\n",
       "      <td>img062.png</td>\n",
       "      <td>NaN</td>\n",
       "      <td>NaN</td>\n",
       "      <td>NaN</td>\n",
       "      <td>NaN</td>\n",
       "      <td>P06_R_10s_lowfps.mp4@62</td>\n",
       "    </tr>\n",
       "    <tr>\n",
       "      <th>5313</th>\n",
       "      <td>P23_R_10s_lowfps.mp4</td>\n",
       "      <td>img044.png</td>\n",
       "      <td>NaN</td>\n",
       "      <td>NaN</td>\n",
       "      <td>NaN</td>\n",
       "      <td>NaN</td>\n",
       "      <td>P23_R_10s_lowfps.mp4@44</td>\n",
       "    </tr>\n",
       "    <tr>\n",
       "      <th>6257</th>\n",
       "      <td>YC02_R_10s_lowfps.mp4</td>\n",
       "      <td>img165.png</td>\n",
       "      <td>NaN</td>\n",
       "      <td>NaN</td>\n",
       "      <td>NaN</td>\n",
       "      <td>NaN</td>\n",
       "      <td>YC02_R_10s_lowfps.mp4@165</td>\n",
       "    </tr>\n",
       "    <tr>\n",
       "      <th>6442</th>\n",
       "      <td>OC100_R_10s_lowfps.mp4</td>\n",
       "      <td>img020.png</td>\n",
       "      <td>NaN</td>\n",
       "      <td>NaN</td>\n",
       "      <td>152.376836</td>\n",
       "      <td>442.820897</td>\n",
       "      <td>OC100_R_10s_lowfps.mp4@20</td>\n",
       "    </tr>\n",
       "    <tr>\n",
       "      <th>...</th>\n",
       "      <td>...</td>\n",
       "      <td>...</td>\n",
       "      <td>...</td>\n",
       "      <td>...</td>\n",
       "      <td>...</td>\n",
       "      <td>...</td>\n",
       "      <td>...</td>\n",
       "    </tr>\n",
       "    <tr>\n",
       "      <th>7948</th>\n",
       "      <td>YC100_R_10s_lowfps.mp4</td>\n",
       "      <td>img046.png</td>\n",
       "      <td>NaN</td>\n",
       "      <td>NaN</td>\n",
       "      <td>276.468460</td>\n",
       "      <td>357.618120</td>\n",
       "      <td>YC100_R_10s_lowfps.mp4@46</td>\n",
       "    </tr>\n",
       "    <tr>\n",
       "      <th>7961</th>\n",
       "      <td>YC100_R_10s_lowfps.mp4</td>\n",
       "      <td>img059.png</td>\n",
       "      <td>NaN</td>\n",
       "      <td>NaN</td>\n",
       "      <td>261.626160</td>\n",
       "      <td>369.986704</td>\n",
       "      <td>YC100_R_10s_lowfps.mp4@59</td>\n",
       "    </tr>\n",
       "    <tr>\n",
       "      <th>8030</th>\n",
       "      <td>YC100_R_10s_lowfps.mp4</td>\n",
       "      <td>img128.png</td>\n",
       "      <td>NaN</td>\n",
       "      <td>NaN</td>\n",
       "      <td>236.888992</td>\n",
       "      <td>397.197588</td>\n",
       "      <td>YC100_R_10s_lowfps.mp4@128</td>\n",
       "    </tr>\n",
       "    <tr>\n",
       "      <th>8031</th>\n",
       "      <td>YC100_R_10s_lowfps.mp4</td>\n",
       "      <td>img129.png</td>\n",
       "      <td>NaN</td>\n",
       "      <td>NaN</td>\n",
       "      <td>229.467842</td>\n",
       "      <td>409.566172</td>\n",
       "      <td>YC100_R_10s_lowfps.mp4@129</td>\n",
       "    </tr>\n",
       "    <tr>\n",
       "      <th>8459</th>\n",
       "      <td>OC10_R_10s_lowfps.mp4</td>\n",
       "      <td>img063.png</td>\n",
       "      <td>NaN</td>\n",
       "      <td>NaN</td>\n",
       "      <td>238.322830</td>\n",
       "      <td>464.983934</td>\n",
       "      <td>OC10_R_10s_lowfps.mp4@63</td>\n",
       "    </tr>\n",
       "  </tbody>\n",
       "</table>\n",
       "<p>114 rows × 7 columns</p>\n",
       "</div>"
      ],
      "text/plain": [
       "                  video_name         seq  new_finger_x  new_finger_y  \\\n",
       "4798   OC50_R_10s_lowfps.mp4  img025.png           NaN           NaN   \n",
       "5001    P06_R_10s_lowfps.mp4  img062.png           NaN           NaN   \n",
       "5313    P23_R_10s_lowfps.mp4  img044.png           NaN           NaN   \n",
       "6257   YC02_R_10s_lowfps.mp4  img165.png           NaN           NaN   \n",
       "6442  OC100_R_10s_lowfps.mp4  img020.png           NaN           NaN   \n",
       "...                      ...         ...           ...           ...   \n",
       "7948  YC100_R_10s_lowfps.mp4  img046.png           NaN           NaN   \n",
       "7961  YC100_R_10s_lowfps.mp4  img059.png           NaN           NaN   \n",
       "8030  YC100_R_10s_lowfps.mp4  img128.png           NaN           NaN   \n",
       "8031  YC100_R_10s_lowfps.mp4  img129.png           NaN           NaN   \n",
       "8459   OC10_R_10s_lowfps.mp4  img063.png           NaN           NaN   \n",
       "\n",
       "      new_thumb_x  new_thumb_y                    filename  \n",
       "4798          NaN          NaN    OC50_R_10s_lowfps.mp4@25  \n",
       "5001          NaN          NaN     P06_R_10s_lowfps.mp4@62  \n",
       "5313          NaN          NaN     P23_R_10s_lowfps.mp4@44  \n",
       "6257          NaN          NaN   YC02_R_10s_lowfps.mp4@165  \n",
       "6442   152.376836   442.820897   OC100_R_10s_lowfps.mp4@20  \n",
       "...           ...          ...                         ...  \n",
       "7948   276.468460   357.618120   YC100_R_10s_lowfps.mp4@46  \n",
       "7961   261.626160   369.986704   YC100_R_10s_lowfps.mp4@59  \n",
       "8030   236.888992   397.197588  YC100_R_10s_lowfps.mp4@128  \n",
       "8031   229.467842   409.566172  YC100_R_10s_lowfps.mp4@129  \n",
       "8459   238.322830   464.983934    OC10_R_10s_lowfps.mp4@63  \n",
       "\n",
       "[114 rows x 7 columns]"
      ]
     },
     "execution_count": 60,
     "metadata": {},
     "output_type": "execute_result"
    }
   ],
   "source": [
    "## Update : 16-07 : we need to clean up few image files for which labels arent available & also those where coordinates are negative\n",
    "#### Cleaning up images for which there is one or more missing labels in the label file\n",
    "\n",
    "root_image_path = \"C:/Users/Kanav/Documents/Dissertation/Parkinsons_Disease/Codes/Fingertip-Mixed-Reality/Dataset/\"\n",
    "\n",
    "label_path = root_image_path + \"label/\"\n",
    "video_files = pd.read_csv(label_path + \"combined_labels_v3_cleaned.csv\")\n",
    "missing_data = video_files[video_files[[\"new_finger_x\",\"new_finger_y\",\"new_thumb_x\",\"new_thumb_y\"]].isnull().any(axis=1)]\n",
    "\n",
    "missing_data[\"filename\"] = missing_data[\"video_name\"] + \"@\" + missing_data.seq.str[3:6].astype(int).astype(str)\n",
    "\n",
    "missing_data"
   ]
  },
  {
   "cell_type": "code",
   "execution_count": 62,
   "id": "356cd34f",
   "metadata": {},
   "outputs": [],
   "source": [
    "## Deleting the above files from image folders\n",
    "\n",
    "for folder in [\"Train\",\"Valid\", \"Test\"]:\n",
    "    for bad_file in missing_data[\"filename\"].unique():\n",
    "        try:\n",
    "            os.remove(root_image_path+folder + \"/\" + bad_file +\".jpg\")\n",
    "        except :\n",
    "            continue"
   ]
  },
  {
   "cell_type": "code",
   "execution_count": 69,
   "id": "3f42cbe5",
   "metadata": {},
   "outputs": [],
   "source": [
    "# Verifying that the files have been removed\n",
    "for folder in [\"Train\",\"Valid\", \"Test\"]:\n",
    "    for bad_file in missing_data[\"filename\"].unique():\n",
    "        for cur_files in os.listdir(root_image_path+folder): \n",
    "            if cur_files == bad_file + \".jpg\":\n",
    "                print(cur_files)\n"
   ]
  },
  {
   "cell_type": "code",
   "execution_count": 70,
   "id": "f11d8867",
   "metadata": {},
   "outputs": [],
   "source": [
    "# Just downloading the names of bad files - not needed though. but will be handy \n",
    "#missing_data.to_csv(\"bad_files.csv\")"
   ]
  },
  {
   "cell_type": "code",
   "execution_count": null,
   "id": "40b15eb3",
   "metadata": {},
   "outputs": [],
   "source": []
  },
  {
   "cell_type": "code",
   "execution_count": 106,
   "id": "24bb0c63",
   "metadata": {},
   "outputs": [],
   "source": [
    "## Now Checking why P06 has 4 negative labels. \n",
    "# import cv2\n",
    "image = cv2.imread(\"C:/Users/Kanav/Documents/Dissertation/Parkinsons_Disease/Data/parkinsons_videos/labeled_data/student3_labelled/OC05_R_10s_lowfps/img000.png\")\n",
    "image = cv2.circle(image, (751,500), radius=10, color=(0, 0, 255), thickness=-1)\n",
    "cv2.imwrite(\"result_check.png\",image)"
   ]
  },
  {
   "cell_type": "code",
   "execution_count": 102,
   "id": "7251d0cc",
   "metadata": {},
   "outputs": [
    {
     "name": "stdout",
     "output_type": "stream",
     "text": [
      "                video_name         seq  new_finger_x  new_finger_y  \\\n",
      "4939  P06_R_10s_lowfps.mp4  img000.png     -2.657505    329.868469   \n",
      "4942  P06_R_10s_lowfps.mp4  img003.png     -8.093929    332.586681   \n",
      "4943  P06_R_10s_lowfps.mp4  img004.png     -8.093929    338.023105   \n",
      "4944  P06_R_10s_lowfps.mp4  img005.png     -2.657505    329.868469   \n",
      "4947  P06_R_10s_lowfps.mp4  img008.png     -5.375717    367.923437   \n",
      "5449  P50_R_10s_lowfps.mp4  img015.png    273.380248    -22.117638   \n",
      "5461  P50_R_10s_lowfps.mp4  img027.png    243.479915     -8.526578   \n",
      "5477  P50_R_10s_lowfps.mp4  img043.png    248.916339    -11.244790   \n",
      "5481  P50_R_10s_lowfps.mp4  img047.png    259.789188    -22.117638   \n",
      "5485  P50_R_10s_lowfps.mp4  img051.png    251.634551    -16.681214   \n",
      "5527  P50_R_10s_lowfps.mp4  img093.png    219.016007     -3.090154   \n",
      "5562  P50_R_10s_lowfps.mp4  img128.png    243.479915     -3.090154   \n",
      "5567  P50_R_10s_lowfps.mp4  img133.png    238.043491     -0.371942   \n",
      "\n",
      "      new_thumb_x  new_thumb_y                  filename  \n",
      "4939   187.617336   683.236031    P06_R_10s_lowfps.mp4@0  \n",
      "4942   184.899124   691.390667    P06_R_10s_lowfps.mp4@3  \n",
      "4943   190.335548   685.954243    P06_R_10s_lowfps.mp4@4  \n",
      "4944   187.617336   699.545304    P06_R_10s_lowfps.mp4@5  \n",
      "4947   168.589852   666.926759    P06_R_10s_lowfps.mp4@8  \n",
      "5449    93.978254   589.480066   P50_R_10s_lowfps.mp4@15  \n",
      "5461    55.923286   548.706886   P50_R_10s_lowfps.mp4@27  \n",
      "5477    47.768650   605.789339   P50_R_10s_lowfps.mp4@43  \n",
      "5481    58.641498   537.834038   P50_R_10s_lowfps.mp4@47  \n",
      "5485    58.641498   532.397614   P50_R_10s_lowfps.mp4@51  \n",
      "5527    31.459378   592.198279   P50_R_10s_lowfps.mp4@93  \n",
      "5562    50.486862   513.370130  P50_R_10s_lowfps.mp4@128  \n",
      "5567    36.895802   507.933706  P50_R_10s_lowfps.mp4@133  \n",
      "13\n"
     ]
    }
   ],
   "source": [
    "## Seems the averaging method of bounding box could not capture these frames properly. \n",
    "# So will have to remove these negative frames as well\n",
    "negative_files = video_files[video_files[\"new_finger_x\"]<0]\n",
    "negative_files = negative_files.append(video_files[video_files[\"new_finger_y\"]<0])\n",
    "negative_files = negative_files.append(video_files[video_files[\"new_thumb_x\"]<0])\n",
    "negative_files = negative_files.append(video_files[video_files[\"new_thumb_y\"]<0])\n",
    "\n",
    "negative_files[\"filename\"] = negative_files[\"video_name\"] + \"@\" + negative_files.seq.str[3:6].astype(int).astype(str)\n",
    "\n",
    "print(negative_files)\n",
    "print(len(negative_files))"
   ]
  },
  {
   "cell_type": "code",
   "execution_count": 103,
   "id": "524f3112",
   "metadata": {},
   "outputs": [
    {
     "name": "stdout",
     "output_type": "stream",
     "text": [
      "all done\n"
     ]
    }
   ],
   "source": [
    "## Deleting the above 0ve coordinate files from image folders\n",
    "for folder in [\"Train\",\"Valid\", \"Test\"]:\n",
    "    for bad_file in negative_files[\"filename\"].unique():\n",
    "        try:\n",
    "            os.remove(root_image_path+folder + \"/\" + bad_file +\".jpg\")\n",
    "        except :\n",
    "            continue\n",
    "\n",
    "\n",
    "print(\"all done\")"
   ]
  },
  {
   "cell_type": "code",
   "execution_count": 127,
   "id": "cf91da48",
   "metadata": {},
   "outputs": [],
   "source": [
    "# Verifying that the files have been removed\n",
    "for folder in [\"Train\",\"Valid\", \"Test\"]:\n",
    "    for bad_file in negative_files[\"filename\"].unique():\n",
    "        for cur_files in os.listdir(root_image_path+folder): \n",
    "            if cur_files == bad_file + \".jpg\":\n",
    "                print(cur_files)\n",
    "\n"
   ]
  },
  {
   "cell_type": "code",
   "execution_count": null,
   "id": "fb79ecbb",
   "metadata": {},
   "outputs": [],
   "source": []
  },
  {
   "cell_type": "code",
   "execution_count": 142,
   "id": "e7ccaefc",
   "metadata": {},
   "outputs": [],
   "source": [
    "## Update 16-7 21:15\n",
    "# not sure why colab is still throwing error as it finds some image which does not have a label. So checking which files are still present - even after cleanup\n",
    "\n",
    "train_directory = 'C:/Users/Kanav/Documents/Dissertation/Parkinsons_Disease/Codes/Fingertip-Mixed-Reality/Dataset/Train/' \n",
    "valid_directory = 'C:/Users/Kanav/Documents/Dissertation/Parkinsons_Disease/Codes/Fingertip-Mixed-Reality/Dataset/Valid/'\n",
    "test_directory = 'C:/Users/Kanav/Documents/Dissertation/Parkinsons_Disease/Codes/Fingertip-Mixed-Reality/Dataset/test/'\n",
    "\n",
    "\n",
    "\n",
    "train_list = os.listdir(train_directory)\n",
    "test_list = os.listdir(test_directory)\n",
    "valid_list = os.listdir(valid_directory)\n",
    "\n",
    "import csv\n",
    "\n",
    "with open(\"train_files.csv\", 'w', newline='') as myfile:\n",
    "    wr = csv.writer(myfile, quoting=csv.QUOTE_ALL)\n",
    "    wr.writerow(train_list)\n",
    "    \n",
    "with open(\"test_files.csv\", 'w', newline='') as myfile:\n",
    "    wr = csv.writer(myfile, quoting=csv.QUOTE_ALL)\n",
    "    wr.writerow(test_list)\n",
    "    \n",
    "with open(\"valid_files.csv\", 'w', newline='') as myfile:\n",
    "    wr = csv.writer(myfile, quoting=csv.QUOTE_ALL)\n",
    "    wr.writerow(valid_list)"
   ]
  },
  {
   "cell_type": "code",
   "execution_count": 156,
   "id": "fc819f3b",
   "metadata": {},
   "outputs": [],
   "source": [
    "## Need to delete these image files checked in excel workbook : Issue with labels_14_july.csv\n",
    "manual_delete_list = [\"OC05_R_10s_lowfps.mp4@8\",\"OC16_R_10s_lowfps.mp4@3\",\"OC50_R_10s_lowfps.mp4@5\",\"P11_R_10s_lowfps.mp4@11\",\"YC02_R_10s_lowfps.mp4@0\"]\n",
    "\n",
    "\n",
    "for folder in [\"Train\",\"Valid\", \"Test\"]:\n",
    "    for bad_file in manual_delete_list:\n",
    "        try:\n",
    "            os.remove(root_image_path+folder + \"/\" + bad_file +\".jpg\")\n",
    "        except :\n",
    "            continue\n"
   ]
  },
  {
   "cell_type": "code",
   "execution_count": null,
   "id": "15f0895c",
   "metadata": {},
   "outputs": [],
   "source": []
  },
  {
   "cell_type": "code",
   "execution_count": null,
   "id": "7c753f48",
   "metadata": {},
   "outputs": [],
   "source": []
  },
  {
   "cell_type": "code",
   "execution_count": 157,
   "id": "159bc869",
   "metadata": {},
   "outputs": [
    {
     "data": {
      "text/plain": [
       "2    229.9468\n",
       "Name: new_thumb_x, dtype: float64"
      ]
     },
     "execution_count": 157,
     "metadata": {},
     "output_type": "execute_result"
    }
   ],
   "source": [
    "#video_files.seq\n",
    "\n",
    "video_files[\"filename\"] = video_files[\"video_name\"] + \"@\" + video_files.seq.str[3:6].astype(int).astype(str)\n",
    "\n",
    "video_files[video_files[\"filename\"] == \"OC01_R_10s_lowfps.mp4@2\"][\"new_thumb_x\"]"
   ]
  },
  {
   "cell_type": "code",
   "execution_count": 126,
   "id": "081990a1",
   "metadata": {},
   "outputs": [
    {
     "data": {
      "text/plain": [
       "True"
      ]
     },
     "execution_count": 126,
     "metadata": {},
     "output_type": "execute_result"
    }
   ],
   "source": [
    "### Delete this after testing \n",
    "# just checking if labels of adjusted files look fine \n",
    "\n",
    "\n",
    "# change the directories here when running on server/cloud - Kanav\n",
    "train_directory = 'C:/Users/Kanav/Documents/Dissertation/Parkinsons_Disease/Codes/Fingertip-Mixed-Reality/Dataset/Train/' \n",
    "valid_directory = 'C:/Users/Kanav/Documents/Dissertation/Parkinsons_Disease/Codes/Fingertip-Mixed-Reality/Dataset/Test/'\n",
    "label_directory = 'C:/Users/Kanav/Documents/Dissertation/Parkinsons_Disease/Codes/Fingertip-Mixed-Reality/Dataset/label/'\n",
    "\n",
    "labels_data = pd.read_csv(label_directory + \"combined_labels_v3_cleaned.csv\")\n",
    "\n",
    "image_name = \"YC103_R_10s_lowfps.mp4@142.jpg\"\n",
    "\n",
    "# image: ndarray keypoints: ndarray but not normalized\n",
    "image = cv2.imread(train_directory + image_name)\n",
    "\n",
    "## Resizing the image to a square dimension - Kanav\n",
    "old_size = image.shape[:2]\n",
    "desired_size = max(old_size)\n",
    "ratio = float(desired_size)/max(old_size)\n",
    "new_size = tuple([int(x*ratio) for x in old_size])\n",
    "new_size\n",
    "delta_w = desired_size - new_size[1]\n",
    "delta_h = desired_size - new_size[0]\n",
    "top, bottom = delta_h//2, delta_h-(delta_h//2)\n",
    "left, right = delta_w//2, delta_w-(delta_w//2)\n",
    "\n",
    "color = [0,0,0]\n",
    "image = cv2.copyMakeBorder(image, top, bottom, left, right, cv2.BORDER_CONSTANT,\n",
    "    value=color)\n",
    "\n",
    "#resizing image as per model requirements - change this when you try some other size - Kanav        \n",
    "image = cv2.resize(image, (128, 128), interpolation=cv2.INTER_LINEAR)\n",
    "\n",
    "# Initialize frame counter - kanav - may not be needed now\n",
    "#cnt = 0 \n",
    "filename = image_name.split(\"@\")[0]\n",
    "file_index = int(image_name.split(\"@\")[1].split(\".\")[0])\n",
    "\n",
    "temp_labels = labels_data[labels_data[\"video_name\"] == filename]\n",
    "keypoints = []\n",
    "\n",
    "#adjusting the width labels as per new image dimensions of a square\n",
    "x1 = int(temp_labels.iloc[file_index,2]) + left\n",
    "y1 = int(temp_labels.iloc[file_index,3]) + top\n",
    "x2 = int(temp_labels.iloc[file_index,4]) + left\n",
    "y2 = int(temp_labels.iloc[file_index,5]) + top\n",
    "\n",
    "#adjusting labels as per dimension of reduced size for model\n",
    "x1 = int(x1*128/int(max(old_size)) )\n",
    "y1 = int(y1*128/int(max(old_size)) )\n",
    "x2 = int(x2*128/int(max(old_size)) )\n",
    "y2 = int(y2*128/int(max(old_size)) )\n",
    "\n",
    "img = cv2.circle(image, (x1,y1), radius=1, color=(0, 0, 255), thickness=-1)\n",
    "cv2.imwrite(\"result_check_finger.png\",img)"
   ]
  },
  {
   "cell_type": "code",
   "execution_count": 123,
   "id": "0f71b00b",
   "metadata": {},
   "outputs": [
    {
     "data": {
      "text/plain": [
       "True"
      ]
     },
     "execution_count": 123,
     "metadata": {},
     "output_type": "execute_result"
    }
   ],
   "source": [
    "# orig = cv2.imread(train_directory + image_name)\n",
    "# img = cv2.circle(orig, (433,117), radius=2, color=(0, 0, 255), thickness=-1)\n",
    "# cv2.imwrite(\"result_orig_check_finger.png\",orig)"
   ]
  },
  {
   "cell_type": "code",
   "execution_count": 124,
   "id": "17b33467",
   "metadata": {},
   "outputs": [
    {
     "name": "stdout",
     "output_type": "stream",
     "text": [
      "all good\n"
     ]
    }
   ],
   "source": [
    "print(\"all good\")"
   ]
  }
 ],
 "metadata": {
  "kernelspec": {
   "display_name": "Python 3",
   "language": "python",
   "name": "python3"
  },
  "language_info": {
   "codemirror_mode": {
    "name": "ipython",
    "version": 3
   },
   "file_extension": ".py",
   "mimetype": "text/x-python",
   "name": "python",
   "nbconvert_exporter": "python",
   "pygments_lexer": "ipython3",
   "version": "3.8.8"
  }
 },
 "nbformat": 4,
 "nbformat_minor": 5
}
