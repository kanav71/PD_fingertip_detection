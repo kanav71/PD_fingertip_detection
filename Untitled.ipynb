{
 "cells": [
  {
   "cell_type": "code",
   "execution_count": 1,
   "id": "80350e3d",
   "metadata": {},
   "outputs": [],
   "source": [
    "import os\n",
    "import cv2\n",
    "import pandas as pd\n",
    "import random\n",
    "import numpy as np\n",
    "from visualize import visualize\n",
    "from preprocess.datagen import label_generator, my_label_gen\n",
    "from preprocess.augmentation import rotation, translate, crop, flip_horizontal, flip_vertical, noise, salt"
   ]
  },
  {
   "cell_type": "code",
   "execution_count": 60,
   "id": "8719389c",
   "metadata": {},
   "outputs": [
    {
     "name": "stdout",
     "output_type": "stream",
     "text": [
      "5    191.169475\n",
      "Name: new_finger_x, dtype: float64\n",
      "[5    36.03263\n",
      "Name: new_finger_x, dtype: float64, 5    65.982623\n",
      "Name: new_finger_y, dtype: float64, 5    41.377104\n",
      "Name: new_thumb_x, dtype: float64, 5    73.821186\n",
      "Name: new_thumb_y, dtype: float64]\n"
     ]
    }
   ],
   "source": [
    "##checking error of augmentation after using floating keypoints\n",
    "train_directory = 'C:/Users/Kanav/Documents/Dissertation/Parkinsons_Disease/Codes/Fingertip-Mixed-Reality/Dataset/Train/' \n",
    "valid_directory = 'C:/Users/Kanav/Documents/Dissertation/Parkinsons_Disease/Codes/Fingertip-Mixed-Reality/Dataset/Valid/'\n",
    "label_directory = 'C:/Users/Kanav/Documents/Dissertation/Parkinsons_Disease/Codes/Fingertip-Mixed-Reality/Dataset/label/'\n",
    "\n",
    "labels_data = pd.read_csv(label_directory + \"combined_labels_v3_cleaned.csv\")\n",
    "labels_data[\"filename\"] = labels_data[\"video_name\"] + \"@\" + labels_data.seq.str[3:6].astype(int).astype(str)\n",
    "\n",
    "\n",
    "image_name = \"OC01_R_10s_lowfps.mp4@5.jpg\"\n",
    "\n",
    "image = cv2.imread(train_directory + image_name)\n",
    "\n",
    "## Resizing the image to a square dimension - Kanav\n",
    "old_size = image.shape[:2]\n",
    "desired_size = max(old_size)\n",
    "ratio = float(desired_size)/max(old_size)\n",
    "new_size = tuple([int(x*ratio) for x in old_size])\n",
    "new_size\n",
    "delta_w = desired_size - new_size[1]\n",
    "delta_h = desired_size - new_size[0]\n",
    "top, bottom = delta_h//2, delta_h-(delta_h//2)\n",
    "left, right = delta_w//2, delta_w-(delta_w//2)\n",
    "\n",
    "color = [0,0,0]\n",
    "image = cv2.copyMakeBorder(image, top, bottom, left, right, cv2.BORDER_CONSTANT,\n",
    "value=color)\n",
    "\n",
    "#resizing image as per model requirements - change this when you try some other size - Kanav        \n",
    "image = cv2.resize(image, (128, 128), interpolation=cv2.INTER_LINEAR)\n",
    "\n",
    "# Initialize frame counter - kanav - may not be needed now\n",
    "#cnt = 0 \n",
    "filename = image_name.split(\".jpg\")[0]\n",
    "#file_index = int(image_name.split(\"@\")[1].split(\".\")[0])\n",
    "#temp_labels = labels_data[labels_data[\"filename\"] == filename]\n",
    "\n",
    "keypoints = []\n",
    "\n",
    "#adjusting the width labels as per new image dimensions of a square\n",
    "x1 = (labels_data[labels_data[\"filename\"] == filename][\"new_finger_x\"]) + left\n",
    "y1 = (labels_data[labels_data[\"filename\"] == filename][\"new_finger_y\"]) + top\n",
    "x2 = (labels_data[labels_data[\"filename\"] == filename][\"new_thumb_x\"]) + left\n",
    "y2 = (labels_data[labels_data[\"filename\"] == filename][\"new_thumb_y\"]) + top\n",
    "\n",
    "aa = (labels_data[labels_data[\"filename\"] == filename][\"new_finger_x\"])\n",
    "#adjusting labels as per dimension of reduced size for model\n",
    "x1 = (x1*128/(max(old_size)) )\n",
    "y1 = (y1*128/(max(old_size)) )\n",
    "x2 = (x2*128/(max(old_size)) )\n",
    "y2 = (y2*128/(max(old_size)) )\n",
    "\n",
    "keypoints.append(x1)\n",
    "keypoints.append(y1)\n",
    "keypoints.append(x2)\n",
    "keypoints.append(y2)\n",
    "\n",
    "print(aa)\n",
    "print(keypoints)\n",
    "\n",
    "# # 1.0 Original Image\n",
    "# x_batch.append(image)\n",
    "# y_batch_key.append(keypoints)\n",
    "# # visualize(image, keypoints)\n",
    "\n",
    "# \"\"\" Augmentation \"\"\"\n",
    "# # 2.0 Flip\n",
    "# im_flip, k_flip = flip_horizontal(image, keypoints)\n",
    "# x_batch.append(im_flip)\n",
    "# y_batch_key.append(k_flip)\n",
    "# # visualize(im_flip, k_flip)\n"
   ]
  },
  {
   "cell_type": "code",
   "execution_count": 61,
   "id": "4d476c46",
   "metadata": {},
   "outputs": [
    {
     "data": {
      "text/plain": [
       "191.16947549999998"
      ]
     },
     "execution_count": 61,
     "metadata": {},
     "output_type": "execute_result"
    }
   ],
   "source": [
    "(labels_data.loc[labels_data[\"filename\"] == filename,\"new_finger_x\"]).values[0]"
   ]
  },
  {
   "cell_type": "code",
   "execution_count": 83,
   "id": "6ce7859c",
   "metadata": {},
   "outputs": [
    {
     "data": {
      "text/plain": [
       "191.16948"
      ]
     },
     "execution_count": 83,
     "metadata": {},
     "output_type": "execute_result"
    }
   ],
   "source": [
    "np.float32(191.16947549999998)"
   ]
  },
  {
   "cell_type": "code",
   "execution_count": 64,
   "id": "8491494f",
   "metadata": {},
   "outputs": [
    {
     "data": {
      "text/plain": [
       "5    36.03263\n",
       "Name: new_finger_x, dtype: float64"
      ]
     },
     "execution_count": 64,
     "metadata": {},
     "output_type": "execute_result"
    }
   ],
   "source": [
    "keypoints[0]"
   ]
  },
  {
   "cell_type": "code",
   "execution_count": 76,
   "id": "63162bae",
   "metadata": {},
   "outputs": [],
   "source": [
    "x_batch = []\n",
    "y_batch_key = []\n",
    "# 1.0 Original Image\n",
    "x_batch.append(image)\n",
    "y_batch_key.append(keypoints)\n",
    "# visualize(image, keypoints)\n",
    "\n",
    "\"\"\" Augmentation \"\"\"\n",
    "# 2.0 Flip\n",
    "im_flip, k_flip = flip_horizontal(image, keypoints)\n",
    "x_batch.append(im_flip)\n",
    "y_batch_key.append(k_flip)\n",
    "# visualize(im_flip, k_flip)\n",
    "\n",
    "# 3.0 Original + rotation\n",
    "im, k = rotation(image, keypoints)\n",
    "x_batch.append(im)\n",
    "y_batch_key.append(k)\n",
    "# visualize(im, k)\n",
    "\n",
    "# 4.0 Flip + rotation\n",
    "im, k = rotation(im_flip, k_flip)\n",
    "x_batch.append(im)\n",
    "y_batch_key.append(k)\n",
    "# visualize(im, k)\n",
    "\n",
    "# 5.0 Original + translate\n",
    "im, k = translate(image, keypoints)\n",
    "x_batch.append(im)\n",
    "y_batch_key.append(k)\n",
    "# visualize(im, k)\n",
    "\n",
    "# 6.0 Flip + translate\n",
    "im, k = translate(im_flip, k_flip)\n",
    "x_batch.append(im)\n",
    "y_batch_key.append(k)\n",
    "# visualize(im, k)\n",
    "\n",
    "# 7.0 Original + crop\n",
    "im, k = crop(image, keypoints)\n",
    "x_batch.append(im)\n",
    "y_batch_key.append(k)\n",
    "# visualize(im, k)\n",
    "\n",
    "# 8.0 Flip + crop\n",
    "im, k = crop(im_flip, k_flip)\n",
    "x_batch.append(im)\n",
    "y_batch_key.append(k)\n",
    "# visualize(im, k)\n",
    "\n",
    "# 9.0 Original + noise\n",
    "im, k = noise(image, keypoints)\n",
    "x_batch.append(im)\n",
    "y_batch_key.append(k)\n",
    "# visualize(im, k)\n",
    "\n",
    "# 10.0 Flip + noise\n",
    "im, k = noise(im_flip, k_flip)\n",
    "x_batch.append(im)\n",
    "y_batch_key.append(k)\n",
    "# visualize(im, k)\n",
    "\n",
    "# 11.0 Original + salt\n",
    "im, k = salt(image, keypoints)\n",
    "x_batch.append(im)\n",
    "y_batch_key.append(k)\n",
    "# visualize(im, k)\n",
    "\n",
    "# 12.0 Flip + salt\n",
    "im, k = salt(im_flip, k_flip)\n",
    "x_batch.append(im)\n",
    "y_batch_key.append(k)\n",
    "# visualize(im, k)\n",
    "\n",
    "# 13.0 Original + flip vertical\n",
    "im, k = flip_vertical(image, keypoints)\n",
    "x_batch.append(im)\n",
    "y_batch_key.append(k)\n",
    "# visualize(im, k)\n",
    "\n",
    "# 14.0 Flip + flip vertical\n",
    "im, k = flip_vertical(im_flip, k_flip)\n",
    "x_batch.append(im)\n",
    "y_batch_key.append(k)\n",
    "# visualize(im, k)\n",
    "\n",
    "# 15.0 Original + rotate + translate\n",
    "im, k = rotation(image, keypoints)\n",
    "im, k = translate(im, k)\n",
    "x_batch.append(im)\n",
    "y_batch_key.append(k)\n",
    "# visualize(im, k)\n",
    "\n",
    "# 16.0 Flip + rotate + translate\n",
    "im, k = rotation(im_flip, k_flip)\n",
    "im, k = translate(im, k)\n",
    "x_batch.append(im)\n",
    "y_batch_key.append(k)\n",
    "# visualize(im, k)\n",
    "\n",
    "# 17.0 Original + noise + translate\n",
    "im, k = noise(image, keypoints)\n",
    "im, k = translate(im, k)\n",
    "x_batch.append(im)\n",
    "y_batch_key.append(k)\n",
    "# visualize(im, k)\n",
    "\n",
    "# 18.0 Flip + noise + translate\n",
    "im, k = noise(im_flip, k_flip)\n",
    "im, k = translate(im, k)\n",
    "x_batch.append(im)\n",
    "y_batch_key.append(k)\n",
    "# visualize(im, k)\n",
    "\n",
    "# 19.0 Original + crop + translate\n",
    "im, k = crop(image, keypoints)\n",
    "im, k = translate(im, k)\n",
    "x_batch.append(im)\n",
    "y_batch_key.append(k)\n",
    "# visualize(im, k)\n",
    "\n",
    "# 20.0 Flip + crop + translate\n",
    "im, k = crop(im_flip, k_flip)\n",
    "im, k = translate(im, k)\n",
    "x_batch.append(im)\n",
    "y_batch_key.append(k)\n",
    "# visualize(im, k)\n",
    "\n",
    "x_batch = np.asarray(x_batch)\n",
    "x_batch = x_batch.astype('float32')\n",
    "x_batch = x_batch / 255.\n",
    "\n",
    "y_batch_key = np.asarray(y_batch_key)\n",
    "y_batch_key = y_batch_key.astype('float64')\n",
    "y_batch_key = y_batch_key / 128.\n"
   ]
  },
  {
   "cell_type": "code",
   "execution_count": 81,
   "id": "0df0a89f",
   "metadata": {},
   "outputs": [
    {
     "data": {
      "text/plain": [
       "array([[0.13306741, 0.16392674, 0.17482112, 0.22516552],\n",
       "       [0.8591201 , 0.16392674, 0.81736636, 0.22516552],\n",
       "       [0.6275356 , 0.6692363 , 0.61645555, 0.63730013],\n",
       "       [0.24278091, 0.6706605 , 0.27268693, 0.6313949 ],\n",
       "       [0.12087992, 0.14298923, 0.16263363, 0.20422801],\n",
       "       [0.9091201 , 0.14298923, 0.8673664 , 0.20422801],\n",
       "       [0.3107118 , 0.24985845, 0.31800646, 0.30143356],\n",
       "       [0.7398733 , 0.2048538 , 0.72238714, 0.26491818],\n",
       "       [0.0418239 , 0.05687559, 0.08762068, 0.12232965],\n",
       "       [0.16689315, 0.87825567, 0.2096584 , 0.814841  ],\n",
       "       [0.65570104, 0.26413125, 0.6243604 , 0.29365158],\n",
       "       [0.95834744, 0.4238787 , 0.8930565 , 0.45120808],\n",
       "       [0.10008598, 0.5085549 , 0.15924923, 0.49489367],\n",
       "       [0.07539695, 0.8397056 , 0.15061255, 0.80476695],\n",
       "       [0.5229588 , 0.75021386, 0.53544277, 0.70468974],\n",
       "       [0.2880691 , 0.33547816, 0.3359208 , 0.34932706],\n",
       "       [0.16397673, 0.84703654, 0.22520618, 0.80421406],\n",
       "       [0.9654004 , 0.52419454, 0.8934768 , 0.53146845],\n",
       "       [0.13999502, 0.12777032, 0.17141071, 0.18788396],\n",
       "       [0.8698218 , 0.11944686, 0.8442136 , 0.17924774]], dtype=float32)"
      ]
     },
     "execution_count": 81,
     "metadata": {},
     "output_type": "execute_result"
    }
   ],
   "source": [
    "y_batch_key.astype('float32')"
   ]
  },
  {
   "cell_type": "code",
   "execution_count": 77,
   "id": "45aa09bd",
   "metadata": {},
   "outputs": [
    {
     "data": {
      "text/plain": [
       "array([[0.13306742, 0.16392674, 0.17482113, 0.22516551],\n",
       "       [0.85912008, 0.16392674, 0.81736637, 0.22516551],\n",
       "       [0.62753558, 0.6692363 , 0.61645555, 0.63730013],\n",
       "       [0.24278091, 0.6706605 , 0.27268693, 0.63139492],\n",
       "       [0.12087992, 0.14298923, 0.16263363, 0.20422801],\n",
       "       [0.90912008, 0.14298923, 0.86736637, 0.20422801],\n",
       "       [0.3107118 , 0.24985845, 0.31800646, 0.30143356],\n",
       "       [0.73987329, 0.2048538 , 0.72238714, 0.26491818],\n",
       "       [0.0418239 , 0.05687559, 0.08762068, 0.12232965],\n",
       "       [0.16689315, 0.87825567, 0.2096584 , 0.81484097],\n",
       "       [0.65570104, 0.26413125, 0.62436038, 0.29365158],\n",
       "       [0.95834744, 0.4238787 , 0.89305651, 0.45120808],\n",
       "       [0.10008598, 0.50855488, 0.15924923, 0.49489367],\n",
       "       [0.07539695, 0.83970559, 0.15061255, 0.80476695],\n",
       "       [0.52295882, 0.75021386, 0.53544277, 0.70468974],\n",
       "       [0.2880691 , 0.33547816, 0.33592081, 0.34932706],\n",
       "       [0.16397673, 0.84703654, 0.22520618, 0.80421406],\n",
       "       [0.9654004 , 0.52419454, 0.89347678, 0.53146845],\n",
       "       [0.13999502, 0.12777032, 0.17141071, 0.18788396],\n",
       "       [0.86982179, 0.11944686, 0.8442136 , 0.17924774]])"
      ]
     },
     "execution_count": 77,
     "metadata": {},
     "output_type": "execute_result"
    }
   ],
   "source": [
    "y_batch_key"
   ]
  },
  {
   "cell_type": "code",
   "execution_count": 79,
   "id": "5237d9de",
   "metadata": {},
   "outputs": [
    {
     "data": {
      "text/plain": [
       "(20, 4)"
      ]
     },
     "execution_count": 79,
     "metadata": {},
     "output_type": "execute_result"
    }
   ],
   "source": [
    "y_batch_key.shape"
   ]
  },
  {
   "cell_type": "code",
   "execution_count": null,
   "id": "276c482e",
   "metadata": {},
   "outputs": [],
   "source": []
  },
  {
   "cell_type": "code",
   "execution_count": 11,
   "id": "c537c298",
   "metadata": {},
   "outputs": [
    {
     "data": {
      "text/plain": [
       "'vanaK'"
      ]
     },
     "execution_count": 11,
     "metadata": {},
     "output_type": "execute_result"
    }
   ],
   "source": [
    "def reverse(s): \n",
    "    str = \"\" \n",
    "    for i in s: \n",
    "        str = i + str\n",
    "    return str\n",
    "\n",
    "reverse(\"Kanav\")"
   ]
  },
  {
   "cell_type": "code",
   "execution_count": 50,
   "id": "bbb19486",
   "metadata": {},
   "outputs": [
    {
     "data": {
      "text/plain": [
       "'Kanav here we are'"
      ]
     },
     "execution_count": 50,
     "metadata": {},
     "output_type": "execute_result"
    }
   ],
   "source": [
    "\"-\".join([\"kanav\", \"is\", \"amazing\"])\n",
    "\n",
    "\"kanav here we are\".capitalize()"
   ]
  },
  {
   "cell_type": "code",
   "execution_count": 34,
   "id": "2d628190",
   "metadata": {},
   "outputs": [
    {
     "data": {
      "text/plain": [
       "8"
      ]
     },
     "execution_count": 34,
     "metadata": {},
     "output_type": "execute_result"
    }
   ],
   "source": [
    "a = lambda x,y : x**y\n",
    "a(2,3)"
   ]
  },
  {
   "cell_type": "code",
   "execution_count": 63,
   "id": "60c44534",
   "metadata": {},
   "outputs": [
    {
     "name": "stdout",
     "output_type": "stream",
     "text": [
      "0\n",
      "1\n",
      "4\n",
      "9\n"
     ]
    }
   ],
   "source": [
    "## yield for generator\n",
    "def squares(a):\n",
    "    k = 0\n",
    "    while k<a:\n",
    "        yield(k**2)\n",
    "        k+=1\n",
    "\n",
    "x = squares(4)\n",
    "print(next(x))\n",
    "print(next(x))\n",
    "print(next(x))\n",
    "print(next(x))\n"
   ]
  },
  {
   "cell_type": "code",
   "execution_count": 73,
   "id": "af6070dc",
   "metadata": {},
   "outputs": [
    {
     "data": {
      "text/plain": [
       "[2, 3, 'f', 2, 3, 'f']"
      ]
     },
     "execution_count": 73,
     "metadata": {},
     "output_type": "execute_result"
    }
   ],
   "source": [
    "a = [2,3,\"f\"]\n",
    "a*2"
   ]
  },
  {
   "cell_type": "code",
   "execution_count": 38,
   "id": "ced6db3e",
   "metadata": {},
   "outputs": [
    {
     "ename": "TypeError",
     "evalue": "'str' object does not support item assignment",
     "output_type": "error",
     "traceback": [
      "\u001b[1;31m---------------------------------------------------------------------------\u001b[0m",
      "\u001b[1;31mTypeError\u001b[0m                                 Traceback (most recent call last)",
      "\u001b[1;32m<ipython-input-38-dcc33b9b59da>\u001b[0m in \u001b[0;36m<module>\u001b[1;34m\u001b[0m\n\u001b[0;32m      1\u001b[0m \u001b[1;31m#strings are immutable\u001b[0m\u001b[1;33m\u001b[0m\u001b[1;33m\u001b[0m\u001b[1;33m\u001b[0m\u001b[0m\n\u001b[0;32m      2\u001b[0m \u001b[0ma\u001b[0m \u001b[1;33m=\u001b[0m \u001b[1;34m\"kanav\"\u001b[0m\u001b[1;33m\u001b[0m\u001b[1;33m\u001b[0m\u001b[0m\n\u001b[1;32m----> 3\u001b[1;33m \u001b[0ma\u001b[0m\u001b[1;33m[\u001b[0m\u001b[1;36m1\u001b[0m\u001b[1;33m]\u001b[0m \u001b[1;33m=\u001b[0m \u001b[1;34m\"p\"\u001b[0m\u001b[1;33m\u001b[0m\u001b[1;33m\u001b[0m\u001b[0m\n\u001b[0m",
      "\u001b[1;31mTypeError\u001b[0m: 'str' object does not support item assignment"
     ]
    }
   ],
   "source": [
    "#strings are immutable\n",
    "a = \"kanav\"\n",
    "a[1] = \"p\""
   ]
  },
  {
   "cell_type": "code",
   "execution_count": 45,
   "id": "cc9482d1",
   "metadata": {},
   "outputs": [],
   "source": [
    "import pandas as pd"
   ]
  },
  {
   "cell_type": "code",
   "execution_count": 47,
   "id": "6b910249",
   "metadata": {},
   "outputs": [
    {
     "data": {
      "text/plain": [
       "'\\nRead a comma-separated values (csv) file into DataFrame.\\n\\nAlso supports optionally iterating or breaking of the file\\ninto chunks.\\n\\nAdditional help can be found in the online docs for\\n`IO Tools <https://pandas.pydata.org/pandas-docs/stable/user_guide/io.html>`_.\\n\\nParameters\\n----------\\nfilepath_or_buffer : str, path object or file-like object\\n    Any valid string path is acceptable. The string could be a URL. Valid\\n    URL schemes include http, ftp, s3, gs, and file. For file URLs, a host is\\n    expected. A local file could be: file://localhost/path/to/table.csv.\\n\\n    If you want to pass in a path object, pandas accepts any ``os.PathLike``.\\n\\n    By file-like object, we refer to objects with a ``read()`` method, such as\\n    a file handler (e.g. via builtin ``open`` function) or ``StringIO``.\\nsep : str, default \\',\\'\\n    Delimiter to use. If sep is None, the C engine cannot automatically detect\\n    the separator, but the Python parsing engine can, meaning the latter will\\n    be used and automatically detect the separator by Python\\'s builtin sniffer\\n    tool, ``csv.Sniffer``. In addition, separators longer than 1 character and\\n    different from ``\\'\\\\s+\\'`` will be interpreted as regular expressions and\\n    will also force the use of the Python parsing engine. Note that regex\\n    delimiters are prone to ignoring quoted data. Regex example: ``\\'\\\\r\\\\t\\'``.\\ndelimiter : str, default ``None``\\n    Alias for sep.\\nheader : int, list of int, default \\'infer\\'\\n    Row number(s) to use as the column names, and the start of the\\n    data.  Default behavior is to infer the column names: if no names\\n    are passed the behavior is identical to ``header=0`` and column\\n    names are inferred from the first line of the file, if column\\n    names are passed explicitly then the behavior is identical to\\n    ``header=None``. Explicitly pass ``header=0`` to be able to\\n    replace existing names. The header can be a list of integers that\\n    specify row locations for a multi-index on the columns\\n    e.g. [0,1,3]. Intervening rows that are not specified will be\\n    skipped (e.g. 2 in this example is skipped). Note that this\\n    parameter ignores commented lines and empty lines if\\n    ``skip_blank_lines=True``, so ``header=0`` denotes the first line of\\n    data rather than the first line of the file.\\nnames : array-like, optional\\n    List of column names to use. If the file contains a header row,\\n    then you should explicitly pass ``header=0`` to override the column names.\\n    Duplicates in this list are not allowed.\\nindex_col : int, str, sequence of int / str, or False, default ``None``\\n  Column(s) to use as the row labels of the ``DataFrame``, either given as\\n  string name or column index. If a sequence of int / str is given, a\\n  MultiIndex is used.\\n\\n  Note: ``index_col=False`` can be used to force pandas to *not* use the first\\n  column as the index, e.g. when you have a malformed file with delimiters at\\n  the end of each line.\\nusecols : list-like or callable, optional\\n    Return a subset of the columns. If list-like, all elements must either\\n    be positional (i.e. integer indices into the document columns) or strings\\n    that correspond to column names provided either by the user in `names` or\\n    inferred from the document header row(s). For example, a valid list-like\\n    `usecols` parameter would be ``[0, 1, 2]`` or ``[\\'foo\\', \\'bar\\', \\'baz\\']``.\\n    Element order is ignored, so ``usecols=[0, 1]`` is the same as ``[1, 0]``.\\n    To instantiate a DataFrame from ``data`` with element order preserved use\\n    ``pd.read_csv(data, usecols=[\\'foo\\', \\'bar\\'])[[\\'foo\\', \\'bar\\']]`` for columns\\n    in ``[\\'foo\\', \\'bar\\']`` order or\\n    ``pd.read_csv(data, usecols=[\\'foo\\', \\'bar\\'])[[\\'bar\\', \\'foo\\']]``\\n    for ``[\\'bar\\', \\'foo\\']`` order.\\n\\n    If callable, the callable function will be evaluated against the column\\n    names, returning names where the callable function evaluates to True. An\\n    example of a valid callable argument would be ``lambda x: x.upper() in\\n    [\\'AAA\\', \\'BBB\\', \\'DDD\\']``. Using this parameter results in much faster\\n    parsing time and lower memory usage.\\nsqueeze : bool, default False\\n    If the parsed data only contains one column then return a Series.\\nprefix : str, optional\\n    Prefix to add to column numbers when no header, e.g. \\'X\\' for X0, X1, ...\\nmangle_dupe_cols : bool, default True\\n    Duplicate columns will be specified as \\'X\\', \\'X.1\\', ...\\'X.N\\', rather than\\n    \\'X\\'...\\'X\\'. Passing in False will cause data to be overwritten if there\\n    are duplicate names in the columns.\\ndtype : Type name or dict of column -> type, optional\\n    Data type for data or columns. E.g. {\\'a\\': np.float64, \\'b\\': np.int32,\\n    \\'c\\': \\'Int64\\'}\\n    Use `str` or `object` together with suitable `na_values` settings\\n    to preserve and not interpret dtype.\\n    If converters are specified, they will be applied INSTEAD\\n    of dtype conversion.\\nengine : {\\'c\\', \\'python\\'}, optional\\n    Parser engine to use. The C engine is faster while the python engine is\\n    currently more feature-complete.\\nconverters : dict, optional\\n    Dict of functions for converting values in certain columns. Keys can either\\n    be integers or column labels.\\ntrue_values : list, optional\\n    Values to consider as True.\\nfalse_values : list, optional\\n    Values to consider as False.\\nskipinitialspace : bool, default False\\n    Skip spaces after delimiter.\\nskiprows : list-like, int or callable, optional\\n    Line numbers to skip (0-indexed) or number of lines to skip (int)\\n    at the start of the file.\\n\\n    If callable, the callable function will be evaluated against the row\\n    indices, returning True if the row should be skipped and False otherwise.\\n    An example of a valid callable argument would be ``lambda x: x in [0, 2]``.\\nskipfooter : int, default 0\\n    Number of lines at bottom of file to skip (Unsupported with engine=\\'c\\').\\nnrows : int, optional\\n    Number of rows of file to read. Useful for reading pieces of large files.\\nna_values : scalar, str, list-like, or dict, optional\\n    Additional strings to recognize as NA/NaN. If dict passed, specific\\n    per-column NA values.  By default the following values are interpreted as\\n    NaN: \\'\\', \\'#N/A\\', \\'#N/A N/A\\', \\'#NA\\', \\'-1.#IND\\', \\'-1.#QNAN\\', \\'-NaN\\', \\'-nan\\',\\n    \\'1.#IND\\', \\'1.#QNAN\\', \\'<NA>\\', \\'N/A\\', \\'NA\\', \\'NULL\\', \\'NaN\\', \\'n/a\\',\\n    \\'nan\\', \\'null\\'.\\nkeep_default_na : bool, default True\\n    Whether or not to include the default NaN values when parsing the data.\\n    Depending on whether `na_values` is passed in, the behavior is as follows:\\n\\n    * If `keep_default_na` is True, and `na_values` are specified, `na_values`\\n      is appended to the default NaN values used for parsing.\\n    * If `keep_default_na` is True, and `na_values` are not specified, only\\n      the default NaN values are used for parsing.\\n    * If `keep_default_na` is False, and `na_values` are specified, only\\n      the NaN values specified `na_values` are used for parsing.\\n    * If `keep_default_na` is False, and `na_values` are not specified, no\\n      strings will be parsed as NaN.\\n\\n    Note that if `na_filter` is passed in as False, the `keep_default_na` and\\n    `na_values` parameters will be ignored.\\nna_filter : bool, default True\\n    Detect missing value markers (empty strings and the value of na_values). In\\n    data without any NAs, passing na_filter=False can improve the performance\\n    of reading a large file.\\nverbose : bool, default False\\n    Indicate number of NA values placed in non-numeric columns.\\nskip_blank_lines : bool, default True\\n    If True, skip over blank lines rather than interpreting as NaN values.\\nparse_dates : bool or list of int or names or list of lists or dict, default False\\n    The behavior is as follows:\\n\\n    * boolean. If True -> try parsing the index.\\n    * list of int or names. e.g. If [1, 2, 3] -> try parsing columns 1, 2, 3\\n      each as a separate date column.\\n    * list of lists. e.g.  If [[1, 3]] -> combine columns 1 and 3 and parse as\\n      a single date column.\\n    * dict, e.g. {\\'foo\\' : [1, 3]} -> parse columns 1, 3 as date and call\\n      result \\'foo\\'\\n\\n    If a column or index cannot be represented as an array of datetimes,\\n    say because of an unparseable value or a mixture of timezones, the column\\n    or index will be returned unaltered as an object data type. For\\n    non-standard datetime parsing, use ``pd.to_datetime`` after\\n    ``pd.read_csv``. To parse an index or column with a mixture of timezones,\\n    specify ``date_parser`` to be a partially-applied\\n    :func:`pandas.to_datetime` with ``utc=True``. See\\n    :ref:`io.csv.mixed_timezones` for more.\\n\\n    Note: A fast-path exists for iso8601-formatted dates.\\ninfer_datetime_format : bool, default False\\n    If True and `parse_dates` is enabled, pandas will attempt to infer the\\n    format of the datetime strings in the columns, and if it can be inferred,\\n    switch to a faster method of parsing them. In some cases this can increase\\n    the parsing speed by 5-10x.\\nkeep_date_col : bool, default False\\n    If True and `parse_dates` specifies combining multiple columns then\\n    keep the original columns.\\ndate_parser : function, optional\\n    Function to use for converting a sequence of string columns to an array of\\n    datetime instances. The default uses ``dateutil.parser.parser`` to do the\\n    conversion. Pandas will try to call `date_parser` in three different ways,\\n    advancing to the next if an exception occurs: 1) Pass one or more arrays\\n    (as defined by `parse_dates`) as arguments; 2) concatenate (row-wise) the\\n    string values from the columns defined by `parse_dates` into a single array\\n    and pass that; and 3) call `date_parser` once for each row using one or\\n    more strings (corresponding to the columns defined by `parse_dates`) as\\n    arguments.\\ndayfirst : bool, default False\\n    DD/MM format dates, international and European format.\\ncache_dates : bool, default True\\n    If True, use a cache of unique, converted dates to apply the datetime\\n    conversion. May produce significant speed-up when parsing duplicate\\n    date strings, especially ones with timezone offsets.\\n\\n    .. versionadded:: 0.25.0\\niterator : bool, default False\\n    Return TextFileReader object for iteration or getting chunks with\\n    ``get_chunk()``.\\nchunksize : int, optional\\n    Return TextFileReader object for iteration.\\n    See the `IO Tools docs\\n    <https://pandas.pydata.org/pandas-docs/stable/io.html#io-chunking>`_\\n    for more information on ``iterator`` and ``chunksize``.\\ncompression : {\\'infer\\', \\'gzip\\', \\'bz2\\', \\'zip\\', \\'xz\\', None}, default \\'infer\\'\\n    For on-the-fly decompression of on-disk data. If \\'infer\\' and\\n    `filepath_or_buffer` is path-like, then detect compression from the\\n    following extensions: \\'.gz\\', \\'.bz2\\', \\'.zip\\', or \\'.xz\\' (otherwise no\\n    decompression). If using \\'zip\\', the ZIP file must contain only one data\\n    file to be read in. Set to None for no decompression.\\nthousands : str, optional\\n    Thousands separator.\\ndecimal : str, default \\'.\\'\\n    Character to recognize as decimal point (e.g. use \\',\\' for European data).\\nlineterminator : str (length 1), optional\\n    Character to break file into lines. Only valid with C parser.\\nquotechar : str (length 1), optional\\n    The character used to denote the start and end of a quoted item. Quoted\\n    items can include the delimiter and it will be ignored.\\nquoting : int or csv.QUOTE_* instance, default 0\\n    Control field quoting behavior per ``csv.QUOTE_*`` constants. Use one of\\n    QUOTE_MINIMAL (0), QUOTE_ALL (1), QUOTE_NONNUMERIC (2) or QUOTE_NONE (3).\\ndoublequote : bool, default ``True``\\n   When quotechar is specified and quoting is not ``QUOTE_NONE``, indicate\\n   whether or not to interpret two consecutive quotechar elements INSIDE a\\n   field as a single ``quotechar`` element.\\nescapechar : str (length 1), optional\\n    One-character string used to escape other characters.\\ncomment : str, optional\\n    Indicates remainder of line should not be parsed. If found at the beginning\\n    of a line, the line will be ignored altogether. This parameter must be a\\n    single character. Like empty lines (as long as ``skip_blank_lines=True``),\\n    fully commented lines are ignored by the parameter `header` but not by\\n    `skiprows`. For example, if ``comment=\\'#\\'``, parsing\\n    ``#empty\\\\na,b,c\\\\n1,2,3`` with ``header=0`` will result in \\'a,b,c\\' being\\n    treated as the header.\\nencoding : str, optional\\n    Encoding to use for UTF when reading/writing (ex. \\'utf-8\\'). `List of Python\\n    standard encodings\\n    <https://docs.python.org/3/library/codecs.html#standard-encodings>`_ .\\ndialect : str or csv.Dialect, optional\\n    If provided, this parameter will override values (default or not) for the\\n    following parameters: `delimiter`, `doublequote`, `escapechar`,\\n    `skipinitialspace`, `quotechar`, and `quoting`. If it is necessary to\\n    override values, a ParserWarning will be issued. See csv.Dialect\\n    documentation for more details.\\nerror_bad_lines : bool, default True\\n    Lines with too many fields (e.g. a csv line with too many commas) will by\\n    default cause an exception to be raised, and no DataFrame will be returned.\\n    If False, then these \"bad lines\" will dropped from the DataFrame that is\\n    returned.\\nwarn_bad_lines : bool, default True\\n    If error_bad_lines is False, and warn_bad_lines is True, a warning for each\\n    \"bad line\" will be output.\\ndelim_whitespace : bool, default False\\n    Specifies whether or not whitespace (e.g. ``\\' \\'`` or ``\\'\\t\\'``) will be\\n    used as the sep. Equivalent to setting ``sep=\\'\\\\s+\\'``. If this option\\n    is set to True, nothing should be passed in for the ``delimiter``\\n    parameter.\\nlow_memory : bool, default True\\n    Internally process the file in chunks, resulting in lower memory use\\n    while parsing, but possibly mixed type inference.  To ensure no mixed\\n    types either set False, or specify the type with the `dtype` parameter.\\n    Note that the entire file is read into a single DataFrame regardless,\\n    use the `chunksize` or `iterator` parameter to return the data in chunks.\\n    (Only valid with C parser).\\nmemory_map : bool, default False\\n    If a filepath is provided for `filepath_or_buffer`, map the file object\\n    directly onto memory and access the data directly from there. Using this\\n    option can improve performance because there is no longer any I/O overhead.\\nfloat_precision : str, optional\\n    Specifies which converter the C engine should use for floating-point\\n    values. The options are `None` for the ordinary converter,\\n    `high` for the high-precision converter, and `round_trip` for the\\n    round-trip converter.\\n\\nReturns\\n-------\\nDataFrame or TextParser\\n    A comma-separated values (csv) file is returned as two-dimensional\\n    data structure with labeled axes.\\n\\nSee Also\\n--------\\nDataFrame.to_csv : Write DataFrame to a comma-separated values (csv) file.\\nread_csv : Read a comma-separated values (csv) file into DataFrame.\\nread_fwf : Read a table of fixed-width formatted lines into DataFrame.\\n\\nExamples\\n--------\\n>>> pd.read_csv(\\'data.csv\\')  # doctest: +SKIP\\n'"
      ]
     },
     "execution_count": 47,
     "metadata": {},
     "output_type": "execute_result"
    }
   ],
   "source": [
    "# docstring\n",
    "def test():\n",
    "    \"\"\"prints a test statement\"\"\"\n",
    "    print(\"here is my test statement\")\n",
    "    \n",
    "pd.read_csv.__doc__"
   ]
  },
  {
   "cell_type": "code",
   "execution_count": 8,
   "id": "f2cfef45",
   "metadata": {},
   "outputs": [
    {
     "data": {
      "text/plain": [
       "array([[ 9., 50., 14., 13.]])"
      ]
     },
     "execution_count": 8,
     "metadata": {},
     "output_type": "execute_result"
    }
   ],
   "source": [
    "gt = [73,34,23,21]\n",
    "pr = [80,82,35,32]\n",
    "kk = abs(np.array(gt)-np.array(pr))\n",
    "zz = kk + np.ones([1,4]) + np.ones([1,4])\n",
    "zz"
   ]
  },
  {
   "cell_type": "code",
   "execution_count": 10,
   "id": "b267e660",
   "metadata": {},
   "outputs": [
    {
     "data": {
      "text/plain": [
       "array([ 9., 50., 14., 13.])"
      ]
     },
     "execution_count": 10,
     "metadata": {},
     "output_type": "execute_result"
    }
   ],
   "source": [
    "zz[0]"
   ]
  }
 ],
 "metadata": {
  "kernelspec": {
   "display_name": "tensorflow",
   "language": "python",
   "name": "tensorflow"
  },
  "language_info": {
   "codemirror_mode": {
    "name": "ipython",
    "version": 3
   },
   "file_extension": ".py",
   "mimetype": "text/x-python",
   "name": "python",
   "nbconvert_exporter": "python",
   "pygments_lexer": "ipython3",
   "version": "3.6.13"
  }
 },
 "nbformat": 4,
 "nbformat_minor": 5
}
